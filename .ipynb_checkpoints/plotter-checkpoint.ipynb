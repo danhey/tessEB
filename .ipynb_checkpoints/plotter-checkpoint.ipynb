{
 "cells": [
  {
   "cell_type": "code",
   "execution_count": 1,
   "metadata": {},
   "outputs": [],
   "source": [
    "import pandas as pd\n",
    "import numpy as np\n",
    "import matplotlib.pyplot as plt\n",
    "import tqdm\n",
    "import glob\n",
    "\n",
    "from astroquery.mast import Observations, Catalogs\n",
    "\n",
    "from multiprocessing import Pool\n",
    "import lightkurve as lk\n",
    "import warnings"
   ]
  },
  {
   "cell_type": "code",
   "execution_count": 2,
   "metadata": {},
   "outputs": [],
   "source": [
    "df = pd.read_csv('data/triage_period_table.txt', header=None, delim_whitespace=True, names=['ID', 'Period', 't0'],\n",
    "                dtype={'ID': str})"
   ]
  },
  {
   "cell_type": "code",
   "execution_count": 3,
   "metadata": {},
   "outputs": [
    {
     "name": "stderr",
     "output_type": "stream",
     "text": [
      "/home/daniel/anaconda3/lib/python3.8/site-packages/IPython/core/interactiveshell.py:3343: TableReplaceWarning: converted column 'HIP' from integer to float\n",
      "  exec(code_obj, self.user_global_ns, self.user_ns)\n",
      "/home/daniel/anaconda3/lib/python3.8/site-packages/IPython/core/interactiveshell.py:3343: TableReplaceWarning: converted column 'KIC' from integer to float\n",
      "  exec(code_obj, self.user_global_ns, self.user_ns)\n",
      "/home/daniel/anaconda3/lib/python3.8/site-packages/IPython/core/interactiveshell.py:3343: TableReplaceWarning: converted column 'numcont' from integer to float\n",
      "  exec(code_obj, self.user_global_ns, self.user_ns)\n",
      "/home/daniel/anaconda3/lib/python3.8/site-packages/IPython/core/interactiveshell.py:3343: TableReplaceWarning: converted column 'gaiaqflag' from integer to float\n",
      "  exec(code_obj, self.user_global_ns, self.user_ns)\n",
      "/home/daniel/anaconda3/lib/python3.8/site-packages/IPython/core/interactiveshell.py:3343: TableReplaceWarning: converted column 'raddflag' from integer to float\n",
      "  exec(code_obj, self.user_global_ns, self.user_ns)\n",
      "/home/daniel/anaconda3/lib/python3.8/site-packages/IPython/core/interactiveshell.py:3343: TableReplaceWarning: converted column 'wdflag' from integer to float\n",
      "  exec(code_obj, self.user_global_ns, self.user_ns)\n"
     ]
    }
   ],
   "source": [
    "result = Catalogs.query_criteria(catalog=\"Tic\", ID=df.ID.values).to_pandas()\n",
    "df = df.merge(result, left_on='ID', right_on='ID')"
   ]
  },
  {
   "cell_type": "markdown",
   "metadata": {},
   "source": [
    "# Making the plots"
   ]
  },
  {
   "cell_type": "code",
   "execution_count": 9,
   "metadata": {},
   "outputs": [
    {
     "name": "stderr",
     "output_type": "stream",
     "text": [
      "100%|██████████| 29/29 [00:20<00:00,  1.40it/s]\n"
     ]
    }
   ],
   "source": [
    "files = []\n",
    "for sector in tqdm.tqdm((range(1,30))):\n",
    "    files.extend(glob.glob('../TESS/sector_' + str(sector) + '/tess*.fits'))"
   ]
  },
  {
   "cell_type": "code",
   "execution_count": 10,
   "metadata": {},
   "outputs": [],
   "source": [
    "tics = [file.split('-')[2].lstrip('0') for file in files]\n",
    "unique_tics = np.unique(tics)"
   ]
  },
  {
   "cell_type": "code",
   "execution_count": 11,
   "metadata": {},
   "outputs": [],
   "source": [
    "lk.log.setLevel(\"ERROR\")\n",
    "def plot_pg(row):\n",
    "    \n",
    "    try:\n",
    "        row = row[1]\n",
    "        unique_tic = row.ID\n",
    "        indices = [i for i, x in enumerate(tics) if x == unique_tic]\n",
    "\n",
    "        with warnings.catch_warnings():\n",
    "            warnings.simplefilter('ignore', lk.LightkurveWarning)\n",
    "            lc = lk.TessLightCurveFile(files[indices[0]]).PDCSAP_FLUX.normalize()\n",
    "            for index in indices[1:]:\n",
    "                lc = lc.append(lk.TessLightCurveFile(files[index]).PDCSAP_FLUX.normalize())\n",
    "\n",
    "        lc = lc.remove_nans()\n",
    "        if row.t0 == 'None':\n",
    "            lc = lc.fold(period=row.Period, t0=0)\n",
    "        else:\n",
    "            lc = lc.fold(period=row.Period, t0=float(row.t0))\n",
    "        ax = lc.plot()\n",
    "        ax.set_xlabel(None)\n",
    "\n",
    "        plt.savefig('plots/' + unique_tic + '.png', bbox_inches='tight', dpi=70, pad_inches=0)\n",
    "        plt.clf()\n",
    "        plt.cla()\n",
    "        plt.close('all')\n",
    "        ax.clear()\n",
    "        del ax\n",
    "        del lc\n",
    "        return\n",
    "    except:\n",
    "        plt.clf()\n",
    "        plt.cla()\n",
    "        plt.close('all')\n",
    "        \n",
    "        return\n"
   ]
  },
  {
   "cell_type": "markdown",
   "metadata": {},
   "source": [
    "There is an awful memory leak with this multiprocessing because it has to fork the dataframe... nevermind"
   ]
  },
  {
   "cell_type": "code",
   "execution_count": 14,
   "metadata": {},
   "outputs": [
    {
     "name": "stderr",
     "output_type": "stream",
     "text": [
      "100%|██████████| 1019/1019 [03:46<00:00,  4.50it/s]\n"
     ]
    }
   ],
   "source": [
    "with Pool(4) as p:\n",
    "    r = list(tqdm.tqdm(p.imap(plot_pg, list(df.iterrows())[3750:]), total=len(list(df.iterrows())[3750:])))"
   ]
  },
  {
   "cell_type": "markdown",
   "metadata": {},
   "source": [
    "# Bokeh time"
   ]
  },
  {
   "cell_type": "code",
   "execution_count": 4,
   "metadata": {},
   "outputs": [],
   "source": [
    "from bokeh.transform import factor_cmap\n",
    "from bokeh.plotting import figure, show, output_file\n",
    "from bokeh.models import ColumnDataSource, ColorBar\n",
    "from bokeh.palettes import Viridis\n",
    "from bokeh.transform import linear_cmap\n",
    "import bokeh"
   ]
  },
  {
   "cell_type": "code",
   "execution_count": 5,
   "metadata": {},
   "outputs": [],
   "source": [
    "plots = glob.glob('plots/*.png')\n",
    "plot_id = [plot.split('/')[1].split('.')[0] for plot in plots]\n",
    "github_plot = [f'https://raw.githubusercontent.com/danhey/tessEB/master/plots/{ticid}.png' for ticid in plot_id]\n",
    "\n",
    "plot_data = pd.DataFrame({\n",
    "    'ID': plot_id,\n",
    "    'file': github_plot\n",
    "})"
   ]
  },
  {
   "cell_type": "code",
   "execution_count": 6,
   "metadata": {},
   "outputs": [],
   "source": [
    "df = df.merge(plot_data, left_on='ID', right_on='ID')"
   ]
  },
  {
   "cell_type": "code",
   "execution_count": 7,
   "metadata": {},
   "outputs": [
    {
     "name": "stderr",
     "output_type": "stream",
     "text": [
      "<ipython-input-7-3f9f6d2f05dc>:2: RuntimeWarning: invalid value encountered in log10\n",
      "  df['absmag'] = df['GAIAmag'].values - 5 * np.log10(1/(df['plx'].values)*1000) + 5\n"
     ]
    }
   ],
   "source": [
    "df['b-r'] = df['gaiabp'] - df['gaiarp']\n",
    "df['absmag'] = df['GAIAmag'].values - 5 * np.log10(1/(df['plx'].values)*1000) + 5\n",
    "plot_df = df"
   ]
  },
  {
   "cell_type": "code",
   "execution_count": 36,
   "metadata": {},
   "outputs": [],
   "source": [
    "from bokeh.plotting import figure, output_file, show, ColumnDataSource\n",
    "from bokeh.models import HoverTool,  WheelZoomTool\n",
    "\n",
    "output_file(\"index.html\", title='TESS eclipsing binaries')\n",
    "\n",
    "cdata = plot_df['b-r']\n",
    "source = ColumnDataSource(\n",
    "        data=dict(\n",
    "            x=plot_df['Period'].values,\n",
    "            y=plot_df['absmag'].values,\n",
    "            imgs = plot_df['file'].values,\n",
    "            desc = plot_df['ID'].values,\n",
    "            color = cdata\n",
    "        )\n",
    "    )\n",
    "\n",
    "hover = HoverTool(# height=\"200\" alt=\"@imgs\" width=\"500\"\n",
    "        tooltips=\"\"\"\n",
    "        <div>\n",
    "            <div>\n",
    "                <img\n",
    "                    src=\"@imgs\"\n",
    "                    border=\"2\"\n",
    "                ></img>\n",
    "            </div>\n",
    "            <div>\n",
    "                <span style=\"font-size: 17px; font-weight: bold;\">TIC @desc</span>\n",
    "            </div>\n",
    "        </div>\n",
    "        \"\"\"\n",
    "    )\n",
    "\n",
    "wheel = WheelZoomTool()\n",
    "p = figure(\n",
    "#         width=700,height=350, #responsive=True,\n",
    "#            sizing_mode='stretch_both',\n",
    "        sizing_mode='scale_height',\n",
    "           tools=[\n",
    "               hover, \n",
    "                  'zoom_in', 'undo', wheel, 'reset', 'box_zoom'],\n",
    "           title=\"TESS eclipsing binaries\", \n",
    "           toolbar_location=\"above\",\n",
    "           x_range=(0,10), y_range=(15,-5),\n",
    "            output_backend=\"webgl\"\n",
    "          )\n",
    "\n",
    "mapper = linear_cmap(field_name='color', palette=bokeh.palettes.Viridis256,\n",
    "                     low=min(cdata) ,\n",
    "                     high=max(cdata))\n",
    "\n",
    "\n",
    "p.circle('x', 'y', \n",
    "         radius=0.015,\n",
    "#          size=8,\n",
    "         line_color=mapper,color=mapper, \n",
    "         fill_alpha=0.6,\n",
    "         source=source)\n",
    "\n",
    "p.xaxis.axis_label = 'Gaia BP - RP'\n",
    "p.yaxis.axis_label = 'Gaia G absolute magnitude'\n",
    "p.xaxis.axis_label_text_font_size = \"18pt\"\n",
    "p.yaxis.axis_label_text_font_size = \"18pt\"\n",
    "p.xaxis.major_label_text_font_size = \"15pt\"\n",
    "p.yaxis.major_label_text_font_size = \"15pt\"\n",
    "p.title.text_font_size = \"15pt\"\n",
    "\n",
    "p.xaxis.axis_label_text_font_style = 'normal'\n",
    "p.yaxis.axis_label_text_font_style = 'normal'\n",
    "\n",
    "p.toolbar.active_scroll=wheel\n",
    "\n",
    "color_bar = ColorBar(color_mapper=mapper['transform'], width=8,  location=(0,0))\n",
    "p.add_layout(color_bar, 'right')\n",
    "\n",
    "show(p)\n"
   ]
  },
  {
   "cell_type": "code",
   "execution_count": null,
   "metadata": {},
   "outputs": [],
   "source": []
  }
 ],
 "metadata": {
  "kernelspec": {
   "display_name": "Python 3",
   "language": "python",
   "name": "python3"
  },
  "language_info": {
   "codemirror_mode": {
    "name": "ipython",
    "version": 3
   },
   "file_extension": ".py",
   "mimetype": "text/x-python",
   "name": "python",
   "nbconvert_exporter": "python",
   "pygments_lexer": "ipython3",
   "version": "3.8.3"
  }
 },
 "nbformat": 4,
 "nbformat_minor": 5
}
